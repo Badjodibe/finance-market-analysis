{
 "cells": [
  {
   "cell_type": "code",
   "execution_count": 1,
   "metadata": {},
   "outputs": [],
   "source": [
    "import pandas as pd\n",
    "import numpy as np\n",
    "import matplotlib.pyplot as plt\n",
    "import statsmodels as sts\n",
    "import plotly.graph_objects as go\n",
    "import plotly.express as exp\n",
    "import seaborn as sns\n",
    "import talib as ta"
   ]
  },
  {
   "cell_type": "code",
   "execution_count": 4,
   "metadata": {},
   "outputs": [],
   "source": [
    "data = pd.read_csv(\"../Data/train.csv\")\n",
    "t = pd.read_csv(\"../Data/test.csv\")\n",
    "ev = pd.read_csv(\"../Data/eval.csv\")\n",
    "data = pd.concat([data, t, ev])\n",
    "data = data.drop(columns=[\"Unnamed: 0\"])\n",
    "data.set_index(pd.to_datetime(data[\"Datetime\"]), inplace=True)"
   ]
  },
  {
   "cell_type": "code",
   "execution_count": 6,
   "metadata": {},
   "outputs": [],
   "source": [
    "def features(data):\n",
    "    \"\"\"\n",
    "        data: the dataset\n",
    "        i: the periode where to calculate the high\n",
    "        j: the step where to calculate the max\n",
    "        k: the periode where to calculate de minimum value\n",
    "    \"\"\"\n",
    "    data_ = data.copy()\n",
    "    data_[\"Open_\"] = data_[\"Open\"].shift(1)\n",
    "    data_[\"Low_\"] = data_[\"Low\"].shift(1)\n",
    "    data_[\"Close_\"] = data_[\"Close\"].shift(1)\n",
    "    data_[\"tp1\"] = (data_[\"Close\"] - data_[\"Open\"])*2\n",
    "    data_[\"Body\"] = pd.abs(data_[\"Open\"] - data_[\"Close\"])\n",
    "    data_[\"Body_1\"] = data_[\"Body\"].shift(1)\n",
    "    data_[\"sl1\"] = data_[\"Law\"].rolling(2).min().shift(1)\n",
    "    data_[\"Diff\"] = data_[\"Body\"] - data_[\"Body_1\"]"
   ]
  },
  {
   "cell_type": "code",
   "execution_count": null,
   "metadata": {},
   "outputs": [],
   "source": []
  }
 ],
 "metadata": {
  "kernelspec": {
   "display_name": "dataDibe",
   "language": "python",
   "name": "python3"
  },
  "language_info": {
   "codemirror_mode": {
    "name": "ipython",
    "version": 3
   },
   "file_extension": ".py",
   "mimetype": "text/x-python",
   "name": "python",
   "nbconvert_exporter": "python",
   "pygments_lexer": "ipython3",
   "version": "3.9.13"
  },
  "orig_nbformat": 4
 },
 "nbformat": 4,
 "nbformat_minor": 2
}
