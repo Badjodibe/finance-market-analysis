{
 "cells": [
  {
   "cell_type": "code",
   "execution_count": 2,
   "metadata": {},
   "outputs": [],
   "source": [
    "\n",
    "import pandas as pd\n",
    "import numpy as np\n",
    "import matplotlib.pyplot as plt\n",
    "import seaborn as sns\n",
    "from sklearn.linear_model import  LinearRegression\n",
    "from sklearn.metrics import  mean_squared_log_error as mse\n",
    "import pickle as pick\n",
    "import deriv_api"
   ]
  },
  {
   "cell_type": "code",
   "execution_count": 3,
   "metadata": {},
   "outputs": [],
   "source": [
    "with open(\"../EURUSDPrediction/bintouRead7.txt\", \"r\") as f:\n",
    "    token = f.readlines()"
   ]
  },
  {
   "cell_type": "code",
   "execution_count": 9,
   "metadata": {},
   "outputs": [],
   "source": [
    "derivAPI = deriv_api.DerivAPI(endpoint='http://localhost/4444', app_id=1234)\n"
   ]
  },
  {
   "cell_type": "code",
   "execution_count": 22,
   "metadata": {},
   "outputs": [
    {
     "ename": "TypeError",
     "evalue": "argument of type 'coroutine' is not iterable",
     "output_type": "error",
     "traceback": [
      "\u001b[0;31m---------------------------------------------------------------------------\u001b[0m",
      "\u001b[0;31mTypeError\u001b[0m                                 Traceback (most recent call last)",
      "\u001b[1;32m/Applications/Trading/EURUSDPrediction/deriv.ipynb Cell 4\u001b[0m in \u001b[0;36m1\n\u001b[1;32m     <a href='vscode-notebook-cell:/Applications/Trading/EURUSDPrediction/deriv.ipynb#W3sZmlsZQ%3D%3D?line=13'>14</a>\u001b[0m response \u001b[39m=\u001b[39m api\u001b[39m.\u001b[39mticks_history({\u001b[39m\"\u001b[39m\u001b[39msymbol\u001b[39m\u001b[39m\"\u001b[39m:symbol, \u001b[39m\"\u001b[39m\u001b[39mgranularity\u001b[39m\u001b[39m\"\u001b[39m: granularity,\u001b[39m\"\u001b[39m\u001b[39mcount\u001b[39m\u001b[39m\"\u001b[39m:count})\n\u001b[1;32m     <a href='vscode-notebook-cell:/Applications/Trading/EURUSDPrediction/deriv.ipynb#W3sZmlsZQ%3D%3D?line=15'>16</a>\u001b[0m \u001b[39m# Vérifier si la requête a réussi\u001b[39;00m\n\u001b[0;32m---> <a href='vscode-notebook-cell:/Applications/Trading/EURUSDPrediction/deriv.ipynb#W3sZmlsZQ%3D%3D?line=16'>17</a>\u001b[0m \u001b[39mif\u001b[39;00m \u001b[39m'\u001b[39;49m\u001b[39merror\u001b[39;49m\u001b[39m'\u001b[39;49m \u001b[39min\u001b[39;49;00m response:\n\u001b[1;32m     <a href='vscode-notebook-cell:/Applications/Trading/EURUSDPrediction/deriv.ipynb#W3sZmlsZQ%3D%3D?line=17'>18</a>\u001b[0m     \u001b[39mprint\u001b[39m(\u001b[39m'\u001b[39m\u001b[39mErreur lors de la requête:\u001b[39m\u001b[39m'\u001b[39m, response[\u001b[39m'\u001b[39m\u001b[39merror\u001b[39m\u001b[39m'\u001b[39m][\u001b[39m'\u001b[39m\u001b[39mmessage\u001b[39m\u001b[39m'\u001b[39m])\n\u001b[1;32m     <a href='vscode-notebook-cell:/Applications/Trading/EURUSDPrediction/deriv.ipynb#W3sZmlsZQ%3D%3D?line=18'>19</a>\u001b[0m \u001b[39melse\u001b[39;00m:\n\u001b[1;32m     <a href='vscode-notebook-cell:/Applications/Trading/EURUSDPrediction/deriv.ipynb#W3sZmlsZQ%3D%3D?line=19'>20</a>\u001b[0m     \u001b[39m# Récupérer les données historiques au format JSON\u001b[39;00m\n",
      "\u001b[0;31mTypeError\u001b[0m: argument of type 'coroutine' is not iterable"
     ]
    }
   ],
   "source": [
    "from deriv_api import DerivAPI\n",
    "\n",
    "# Remplacez 'VOTRE_TOKEN_API_DERIV' par votre propre token d'authentification de l'API de Deriv\n",
    "\n",
    "# Créez une instance de l'API de Deriv\n",
    "api = DerivAPI(app_id = 12)\n",
    "\n",
    "# Définir les paramètres de la requête\n",
    "symbol = 'R_100'\n",
    "granularity = 60\n",
    "count = 100\n",
    "\n",
    "# Faire la requête pour obtenir les données historiques\n",
    "response = api.ticks_history({\"symbol\":symbol, \"granularity\": granularity,\"count\":count})\n",
    "\n",
    "# Vérifier si la requête a réussi\n",
    "if 'error' in response:\n",
    "    print('Erreur lors de la requête:', response['error']['message'])\n",
    "else:\n",
    "    # Récupérer les données historiques au format JSON\n",
    "    data = response['history']['times']\n",
    "\n",
    "    # Afficher les données historiques\n",
    "    print(data)\n"
   ]
  },
  {
   "cell_type": "code",
   "execution_count": 20,
   "metadata": {},
   "outputs": [
    {
     "ename": "NameError",
     "evalue": "name 'data' is not defined",
     "output_type": "error",
     "traceback": [
      "\u001b[0;31m---------------------------------------------------------------------------\u001b[0m",
      "\u001b[0;31mNameError\u001b[0m                                 Traceback (most recent call last)",
      "\u001b[1;32m/Applications/Trading/EURUSDPrediction/deriv.ipynb Cell 5\u001b[0m in \u001b[0;36m1\n\u001b[0;32m----> <a href='vscode-notebook-cell:/Applications/Trading/EURUSDPrediction/deriv.ipynb#W4sZmlsZQ%3D%3D?line=0'>1</a>\u001b[0m data\n",
      "\u001b[0;31mNameError\u001b[0m: name 'data' is not defined"
     ]
    }
   ],
   "source": [
    "data"
   ]
  }
 ],
 "metadata": {
  "kernelspec": {
   "display_name": "dataDibe",
   "language": "python",
   "name": "python3"
  },
  "language_info": {
   "codemirror_mode": {
    "name": "ipython",
    "version": 3
   },
   "file_extension": ".py",
   "mimetype": "text/x-python",
   "name": "python",
   "nbconvert_exporter": "python",
   "pygments_lexer": "ipython3",
   "version": "3.9.13"
  },
  "orig_nbformat": 4
 },
 "nbformat": 4,
 "nbformat_minor": 2
}
